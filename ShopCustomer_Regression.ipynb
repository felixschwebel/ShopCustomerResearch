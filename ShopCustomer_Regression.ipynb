{
 "cells": [
  {
   "attachments": {},
   "cell_type": "markdown",
   "metadata": {},
   "source": [
    "# Shop Customer - Regression"
   ]
  },
  {
   "attachments": {},
   "cell_type": "markdown",
   "metadata": {},
   "source": [
    "[**Data by SHRUTI_IYYER from Kaggle**](https://www.kaggle.com/datasets/shrutimechlearn/customer-data)"
   ]
  },
  {
   "attachments": {},
   "cell_type": "markdown",
   "metadata": {},
   "source": [
    "A project to predict the spending score with the Age, Sex and Annual Income. I will try different regression model and compare their performance."
   ]
  },
  {
   "attachments": {},
   "cell_type": "markdown",
   "metadata": {},
   "source": [
    "*Import the most important libraries*"
   ]
  },
  {
   "cell_type": "code",
   "execution_count": 69,
   "metadata": {},
   "outputs": [],
   "source": [
    "import pandas as pd\n",
    "import numpy as np\n",
    "import matplotlib.pyplot as plt"
   ]
  },
  {
   "attachments": {},
   "cell_type": "markdown",
   "metadata": {},
   "source": [
    "importing the Dataset"
   ]
  },
  {
   "cell_type": "code",
   "execution_count": 70,
   "metadata": {},
   "outputs": [
    {
     "data": {
      "text/html": [
       "<div>\n",
       "<style scoped>\n",
       "    .dataframe tbody tr th:only-of-type {\n",
       "        vertical-align: middle;\n",
       "    }\n",
       "\n",
       "    .dataframe tbody tr th {\n",
       "        vertical-align: top;\n",
       "    }\n",
       "\n",
       "    .dataframe thead th {\n",
       "        text-align: right;\n",
       "    }\n",
       "</style>\n",
       "<table border=\"1\" class=\"dataframe\">\n",
       "  <thead>\n",
       "    <tr style=\"text-align: right;\">\n",
       "      <th></th>\n",
       "      <th>Genre</th>\n",
       "      <th>Age</th>\n",
       "      <th>Annual_Income_(k$)</th>\n",
       "      <th>Spending_Score</th>\n",
       "    </tr>\n",
       "  </thead>\n",
       "  <tbody>\n",
       "    <tr>\n",
       "      <th>0</th>\n",
       "      <td>Male</td>\n",
       "      <td>19</td>\n",
       "      <td>15</td>\n",
       "      <td>39</td>\n",
       "    </tr>\n",
       "    <tr>\n",
       "      <th>1</th>\n",
       "      <td>Male</td>\n",
       "      <td>21</td>\n",
       "      <td>15</td>\n",
       "      <td>81</td>\n",
       "    </tr>\n",
       "    <tr>\n",
       "      <th>2</th>\n",
       "      <td>Female</td>\n",
       "      <td>20</td>\n",
       "      <td>16</td>\n",
       "      <td>6</td>\n",
       "    </tr>\n",
       "    <tr>\n",
       "      <th>3</th>\n",
       "      <td>Female</td>\n",
       "      <td>23</td>\n",
       "      <td>16</td>\n",
       "      <td>77</td>\n",
       "    </tr>\n",
       "    <tr>\n",
       "      <th>4</th>\n",
       "      <td>Female</td>\n",
       "      <td>31</td>\n",
       "      <td>17</td>\n",
       "      <td>40</td>\n",
       "    </tr>\n",
       "    <tr>\n",
       "      <th>...</th>\n",
       "      <td>...</td>\n",
       "      <td>...</td>\n",
       "      <td>...</td>\n",
       "      <td>...</td>\n",
       "    </tr>\n",
       "    <tr>\n",
       "      <th>195</th>\n",
       "      <td>Female</td>\n",
       "      <td>35</td>\n",
       "      <td>120</td>\n",
       "      <td>79</td>\n",
       "    </tr>\n",
       "    <tr>\n",
       "      <th>196</th>\n",
       "      <td>Female</td>\n",
       "      <td>45</td>\n",
       "      <td>126</td>\n",
       "      <td>28</td>\n",
       "    </tr>\n",
       "    <tr>\n",
       "      <th>197</th>\n",
       "      <td>Male</td>\n",
       "      <td>32</td>\n",
       "      <td>126</td>\n",
       "      <td>74</td>\n",
       "    </tr>\n",
       "    <tr>\n",
       "      <th>198</th>\n",
       "      <td>Male</td>\n",
       "      <td>32</td>\n",
       "      <td>137</td>\n",
       "      <td>18</td>\n",
       "    </tr>\n",
       "    <tr>\n",
       "      <th>199</th>\n",
       "      <td>Male</td>\n",
       "      <td>30</td>\n",
       "      <td>137</td>\n",
       "      <td>83</td>\n",
       "    </tr>\n",
       "  </tbody>\n",
       "</table>\n",
       "<p>200 rows × 4 columns</p>\n",
       "</div>"
      ],
      "text/plain": [
       "      Genre  Age  Annual_Income_(k$)  Spending_Score\n",
       "0      Male   19                  15              39\n",
       "1      Male   21                  15              81\n",
       "2    Female   20                  16               6\n",
       "3    Female   23                  16              77\n",
       "4    Female   31                  17              40\n",
       "..      ...  ...                 ...             ...\n",
       "195  Female   35                 120              79\n",
       "196  Female   45                 126              28\n",
       "197    Male   32                 126              74\n",
       "198    Male   32                 137              18\n",
       "199    Male   30                 137              83\n",
       "\n",
       "[200 rows x 4 columns]"
      ]
     },
     "execution_count": 70,
     "metadata": {},
     "output_type": "execute_result"
    }
   ],
   "source": [
    "dataset = pd.read_csv('Customers.csv')\n",
    "dataset.drop(columns=['CustomerID'], inplace=True)\n",
    "dataset"
   ]
  },
  {
   "attachments": {},
   "cell_type": "markdown",
   "metadata": {},
   "source": [
    "## Linear Regression"
   ]
  },
  {
   "attachments": {},
   "cell_type": "markdown",
   "metadata": {},
   "source": [
    "Data-preprocessing: selecting the Genre, Age and Annual Income as independent variables X and the Spending Score as dependent variable y."
   ]
  },
  {
   "cell_type": "code",
   "execution_count": 71,
   "metadata": {},
   "outputs": [],
   "source": [
    "X = dataset.iloc[:, :-1].values\n",
    "y = dataset.iloc[:, -1].values"
   ]
  },
  {
   "attachments": {},
   "cell_type": "markdown",
   "metadata": {},
   "source": [
    "Encode the categorical data of the Genre column, which has 'Female' and 'Male' as values. To avoid the dummy variable trap the first column of the transformed X is omitted. "
   ]
  },
  {
   "cell_type": "code",
   "execution_count": 79,
   "metadata": {},
   "outputs": [
    {
     "data": {
      "text/plain": [
       "array([[1.0, 19, 15],\n",
       "       [1.0, 21, 15],\n",
       "       [0.0, 20, 16],\n",
       "       [0.0, 23, 16],\n",
       "       [0.0, 31, 17],\n",
       "       [0.0, 22, 17],\n",
       "       [0.0, 35, 18],\n",
       "       [0.0, 23, 18],\n",
       "       [1.0, 64, 19],\n",
       "       [0.0, 30, 19],\n",
       "       [1.0, 67, 19],\n",
       "       [0.0, 35, 19],\n",
       "       [0.0, 58, 20],\n",
       "       [0.0, 24, 20],\n",
       "       [1.0, 37, 20],\n",
       "       [1.0, 22, 20],\n",
       "       [0.0, 35, 21],\n",
       "       [1.0, 20, 21],\n",
       "       [1.0, 52, 23],\n",
       "       [0.0, 35, 23],\n",
       "       [1.0, 35, 24],\n",
       "       [1.0, 25, 24],\n",
       "       [0.0, 46, 25],\n",
       "       [1.0, 31, 25],\n",
       "       [0.0, 54, 28],\n",
       "       [1.0, 29, 28],\n",
       "       [0.0, 45, 28],\n",
       "       [1.0, 35, 28],\n",
       "       [0.0, 40, 29],\n",
       "       [0.0, 23, 29],\n",
       "       [1.0, 60, 30],\n",
       "       [0.0, 21, 30],\n",
       "       [1.0, 53, 33],\n",
       "       [1.0, 18, 33],\n",
       "       [0.0, 49, 33],\n",
       "       [0.0, 21, 33],\n",
       "       [0.0, 42, 34],\n",
       "       [0.0, 30, 34],\n",
       "       [0.0, 36, 37],\n",
       "       [0.0, 20, 37],\n",
       "       [0.0, 65, 38],\n",
       "       [1.0, 24, 38],\n",
       "       [1.0, 48, 39],\n",
       "       [0.0, 31, 39],\n",
       "       [0.0, 49, 39],\n",
       "       [0.0, 24, 39],\n",
       "       [0.0, 50, 40],\n",
       "       [0.0, 27, 40],\n",
       "       [0.0, 29, 40],\n",
       "       [0.0, 31, 40],\n",
       "       [0.0, 49, 42],\n",
       "       [1.0, 33, 42],\n",
       "       [0.0, 31, 43],\n",
       "       [1.0, 59, 43],\n",
       "       [0.0, 50, 43],\n",
       "       [1.0, 47, 43],\n",
       "       [0.0, 51, 44],\n",
       "       [1.0, 69, 44],\n",
       "       [0.0, 27, 46],\n",
       "       [1.0, 53, 46],\n",
       "       [1.0, 70, 46],\n",
       "       [1.0, 19, 46],\n",
       "       [0.0, 67, 47],\n",
       "       [0.0, 54, 47],\n",
       "       [1.0, 63, 48],\n",
       "       [1.0, 18, 48],\n",
       "       [0.0, 43, 48],\n",
       "       [0.0, 68, 48],\n",
       "       [1.0, 19, 48],\n",
       "       [0.0, 32, 48],\n",
       "       [1.0, 70, 49],\n",
       "       [0.0, 47, 49],\n",
       "       [0.0, 60, 50],\n",
       "       [0.0, 60, 50],\n",
       "       [1.0, 59, 54],\n",
       "       [1.0, 26, 54],\n",
       "       [0.0, 45, 54],\n",
       "       [1.0, 40, 54],\n",
       "       [0.0, 23, 54],\n",
       "       [0.0, 49, 54],\n",
       "       [1.0, 57, 54],\n",
       "       [1.0, 38, 54],\n",
       "       [1.0, 67, 54],\n",
       "       [0.0, 46, 54],\n",
       "       [0.0, 21, 54],\n",
       "       [1.0, 48, 54],\n",
       "       [0.0, 55, 57],\n",
       "       [0.0, 22, 57],\n",
       "       [0.0, 34, 58],\n",
       "       [0.0, 50, 58],\n",
       "       [0.0, 68, 59],\n",
       "       [1.0, 18, 59],\n",
       "       [1.0, 48, 60],\n",
       "       [0.0, 40, 60],\n",
       "       [0.0, 32, 60],\n",
       "       [1.0, 24, 60],\n",
       "       [0.0, 47, 60],\n",
       "       [0.0, 27, 60],\n",
       "       [1.0, 48, 61],\n",
       "       [1.0, 20, 61],\n",
       "       [0.0, 23, 62],\n",
       "       [0.0, 49, 62],\n",
       "       [1.0, 67, 62],\n",
       "       [1.0, 26, 62],\n",
       "       [1.0, 49, 62],\n",
       "       [0.0, 21, 62],\n",
       "       [0.0, 66, 63],\n",
       "       [1.0, 54, 63],\n",
       "       [1.0, 68, 63],\n",
       "       [1.0, 66, 63],\n",
       "       [1.0, 65, 63],\n",
       "       [0.0, 19, 63],\n",
       "       [0.0, 38, 64],\n",
       "       [1.0, 19, 64],\n",
       "       [0.0, 18, 65],\n",
       "       [0.0, 19, 65],\n",
       "       [0.0, 63, 65],\n",
       "       [0.0, 49, 65],\n",
       "       [0.0, 51, 67],\n",
       "       [0.0, 50, 67],\n",
       "       [1.0, 27, 67],\n",
       "       [0.0, 38, 67],\n",
       "       [0.0, 40, 69],\n",
       "       [1.0, 39, 69],\n",
       "       [0.0, 23, 70],\n",
       "       [0.0, 31, 70],\n",
       "       [1.0, 43, 71],\n",
       "       [1.0, 40, 71],\n",
       "       [1.0, 59, 71],\n",
       "       [1.0, 38, 71],\n",
       "       [1.0, 47, 71],\n",
       "       [1.0, 39, 71],\n",
       "       [0.0, 25, 72],\n",
       "       [0.0, 31, 72],\n",
       "       [1.0, 20, 73],\n",
       "       [0.0, 29, 73],\n",
       "       [0.0, 44, 73],\n",
       "       [1.0, 32, 73],\n",
       "       [1.0, 19, 74],\n",
       "       [0.0, 35, 74],\n",
       "       [0.0, 57, 75],\n",
       "       [1.0, 32, 75],\n",
       "       [0.0, 28, 76],\n",
       "       [0.0, 32, 76],\n",
       "       [1.0, 25, 77],\n",
       "       [1.0, 28, 77],\n",
       "       [1.0, 48, 77],\n",
       "       [0.0, 32, 77],\n",
       "       [0.0, 34, 78],\n",
       "       [1.0, 34, 78],\n",
       "       [1.0, 43, 78],\n",
       "       [1.0, 39, 78],\n",
       "       [0.0, 44, 78],\n",
       "       [0.0, 38, 78],\n",
       "       [0.0, 47, 78],\n",
       "       [0.0, 27, 78],\n",
       "       [1.0, 37, 78],\n",
       "       [0.0, 30, 78],\n",
       "       [1.0, 34, 78],\n",
       "       [0.0, 30, 78],\n",
       "       [0.0, 56, 79],\n",
       "       [0.0, 29, 79],\n",
       "       [1.0, 19, 81],\n",
       "       [0.0, 31, 81],\n",
       "       [1.0, 50, 85],\n",
       "       [0.0, 36, 85],\n",
       "       [1.0, 42, 86],\n",
       "       [0.0, 33, 86],\n",
       "       [0.0, 36, 87],\n",
       "       [1.0, 32, 87],\n",
       "       [1.0, 40, 87],\n",
       "       [1.0, 28, 87],\n",
       "       [1.0, 36, 87],\n",
       "       [1.0, 36, 87],\n",
       "       [0.0, 52, 88],\n",
       "       [0.0, 30, 88],\n",
       "       [1.0, 58, 88],\n",
       "       [1.0, 27, 88],\n",
       "       [1.0, 59, 93],\n",
       "       [1.0, 35, 93],\n",
       "       [0.0, 37, 97],\n",
       "       [0.0, 32, 97],\n",
       "       [1.0, 46, 98],\n",
       "       [0.0, 29, 98],\n",
       "       [0.0, 41, 99],\n",
       "       [1.0, 30, 99],\n",
       "       [0.0, 54, 101],\n",
       "       [1.0, 28, 101],\n",
       "       [0.0, 41, 103],\n",
       "       [0.0, 36, 103],\n",
       "       [0.0, 34, 103],\n",
       "       [0.0, 32, 103],\n",
       "       [1.0, 33, 113],\n",
       "       [0.0, 38, 113],\n",
       "       [0.0, 47, 120],\n",
       "       [0.0, 35, 120],\n",
       "       [0.0, 45, 126],\n",
       "       [1.0, 32, 126],\n",
       "       [1.0, 32, 137],\n",
       "       [1.0, 30, 137]], dtype=object)"
      ]
     },
     "execution_count": 79,
     "metadata": {},
     "output_type": "execute_result"
    }
   ],
   "source": [
    "from sklearn.compose import ColumnTransformer\n",
    "from sklearn.preprocessing import OneHotEncoder\n",
    "ct = ColumnTransformer(transformers=[('encoder', OneHotEncoder(), [0])], remainder='passthrough')\n",
    "X = np.array(ct.fit_transform(X))\n",
    "X = X[:, 1:]\n",
    "X"
   ]
  },
  {
   "attachments": {},
   "cell_type": "markdown",
   "metadata": {},
   "source": [
    "Splitting the dataset into a training set and test set. The test set will contain 40 values and the training set 160."
   ]
  },
  {
   "cell_type": "code",
   "execution_count": 73,
   "metadata": {},
   "outputs": [],
   "source": [
    "from sklearn.model_selection import train_test_split\n",
    "X_train, X_test, y_train, y_test = train_test_split(X, y, test_size=0.2)"
   ]
  },
  {
   "attachments": {},
   "cell_type": "markdown",
   "metadata": {},
   "source": [
    "Training the **Multiple Linear Regression** model on the training set. "
   ]
  },
  {
   "cell_type": "code",
   "execution_count": 74,
   "metadata": {},
   "outputs": [
    {
     "data": {
      "text/plain": [
       "LinearRegression()"
      ]
     },
     "execution_count": 74,
     "metadata": {},
     "output_type": "execute_result"
    }
   ],
   "source": [
    "from sklearn.linear_model import LinearRegression\n",
    "regressor = LinearRegression()\n",
    "regressor.fit(X_train, y_train)"
   ]
  },
  {
   "attachments": {},
   "cell_type": "markdown",
   "metadata": {},
   "source": [
    "Predicting the results of the test set."
   ]
  },
  {
   "cell_type": "code",
   "execution_count": 75,
   "metadata": {},
   "outputs": [],
   "source": [
    "y_pred = regressor.predict(X_test)\n"
   ]
  },
  {
   "cell_type": "code",
   "execution_count": 81,
   "metadata": {},
   "outputs": [
    {
     "data": {
      "text/plain": [
       "array([1.0, 1.0, 0.0, 0.0, 0.0, 0.0, 0.0, 0.0, 1.0, 0.0, 1.0, 0.0, 0.0,\n",
       "       0.0, 1.0, 1.0, 0.0, 1.0, 1.0, 0.0, 1.0, 1.0, 0.0, 1.0, 0.0, 1.0,\n",
       "       0.0, 1.0, 0.0, 0.0, 1.0, 0.0, 1.0, 1.0, 0.0, 0.0, 0.0, 0.0, 0.0,\n",
       "       0.0, 0.0, 1.0, 1.0, 0.0, 0.0, 0.0, 0.0, 0.0, 0.0, 0.0, 0.0, 1.0,\n",
       "       0.0, 1.0, 0.0, 1.0, 0.0, 1.0, 0.0, 1.0, 1.0, 1.0, 0.0, 0.0, 1.0,\n",
       "       1.0, 0.0, 0.0, 1.0, 0.0, 1.0, 0.0, 0.0, 0.0, 1.0, 1.0, 0.0, 1.0,\n",
       "       0.0, 0.0, 1.0, 1.0, 1.0, 0.0, 0.0, 1.0, 0.0, 0.0, 0.0, 0.0, 0.0,\n",
       "       1.0, 1.0, 0.0, 0.0, 1.0, 0.0, 0.0, 1.0, 1.0, 0.0, 0.0, 1.0, 1.0,\n",
       "       1.0, 0.0, 0.0, 1.0, 1.0, 1.0, 1.0, 0.0, 0.0, 1.0, 0.0, 0.0, 0.0,\n",
       "       0.0, 0.0, 0.0, 1.0, 0.0, 0.0, 1.0, 0.0, 0.0, 1.0, 1.0, 1.0, 1.0,\n",
       "       1.0, 1.0, 0.0, 0.0, 1.0, 0.0, 0.0, 1.0, 1.0, 0.0, 0.0, 1.0, 0.0,\n",
       "       0.0, 1.0, 1.0, 1.0, 0.0, 0.0, 1.0, 1.0, 1.0, 0.0, 0.0, 0.0, 0.0,\n",
       "       1.0, 0.0, 1.0, 0.0, 0.0, 0.0, 1.0, 0.0, 1.0, 0.0, 1.0, 0.0, 0.0,\n",
       "       1.0, 1.0, 1.0, 1.0, 1.0, 0.0, 0.0, 1.0, 1.0, 1.0, 1.0, 0.0, 0.0,\n",
       "       1.0, 0.0, 0.0, 1.0, 0.0, 1.0, 0.0, 0.0, 0.0, 0.0, 1.0, 0.0, 0.0,\n",
       "       0.0, 0.0, 1.0, 1.0, 1.0], dtype=object)"
      ]
     },
     "execution_count": 81,
     "metadata": {},
     "output_type": "execute_result"
    }
   ],
   "source": [
    "X[:, 0]"
   ]
  },
  {
   "cell_type": "code",
   "execution_count": 83,
   "metadata": {},
   "outputs": [
    {
     "name": "stdout",
     "output_type": "stream",
     "text": [
      "                            OLS Regression Results                            \n",
      "==============================================================================\n",
      "Dep. Variable:         Spending_Score   R-squared:                       0.107\n",
      "Model:                            OLS   Adj. R-squared:                  0.098\n",
      "Method:                 Least Squares   F-statistic:                     11.82\n",
      "Date:                Wed, 08 Mar 2023   Prob (F-statistic):           1.42e-05\n",
      "Time:                        18:53:34   Log-Likelihood:                -922.21\n",
      "No. Observations:                 200   AIC:                             1850.\n",
      "Df Residuals:                     197   BIC:                             1860.\n",
      "Df Model:                           2                                         \n",
      "Covariance Type:            nonrobust                                         \n",
      "==============================================================================\n",
      "                 coef    std err          t      P>|t|      [0.025      0.975]\n",
      "------------------------------------------------------------------------------\n",
      "const         73.3479      6.553     11.193      0.000      60.425      86.271\n",
      "x1            -0.6048      0.124     -4.859      0.000      -0.850      -0.359\n",
      "x2             0.0057      0.066      0.087      0.931      -0.125       0.136\n",
      "==============================================================================\n",
      "Omnibus:                       10.159   Durbin-Watson:                   3.452\n",
      "Prob(Omnibus):                  0.006   Jarque-Bera (JB):                6.026\n",
      "Skew:                          -0.254   Prob(JB):                       0.0491\n",
      "Kurtosis:                       2.318   Cond. No.                         286.\n",
      "==============================================================================\n",
      "\n",
      "Notes:\n",
      "[1] Standard Errors assume that the covariance matrix of the errors is correctly specified.\n"
     ]
    }
   ],
   "source": [
    "import statsmodels.api as sm\n",
    "X_sm = np.column_stack((dataset['Age'], dataset['Annual_Income_(k$)']))\n",
    "y_sm = dataset['Spending_Score']\n",
    "\n",
    "X_sm = sm.add_constant(X_sm)\n",
    "model = sm.OLS(y_sm, X_sm)\n",
    "result = model.fit()\n",
    "print(result.summary())\n"
   ]
  },
  {
   "attachments": {},
   "cell_type": "markdown",
   "metadata": {},
   "source": [
    "## Polynominal Regression"
   ]
  },
  {
   "attachments": {},
   "cell_type": "markdown",
   "metadata": {},
   "source": [
    "## Support Vector Regression (SVR)"
   ]
  },
  {
   "attachments": {},
   "cell_type": "markdown",
   "metadata": {},
   "source": [
    "## Decision Tree Regression "
   ]
  },
  {
   "attachments": {},
   "cell_type": "markdown",
   "metadata": {},
   "source": [
    "## Random Forest Regression "
   ]
  },
  {
   "attachments": {},
   "cell_type": "markdown",
   "metadata": {},
   "source": [
    "## **Comparison**"
   ]
  }
 ],
 "metadata": {
  "kernelspec": {
   "display_name": "base",
   "language": "python",
   "name": "python3"
  },
  "language_info": {
   "codemirror_mode": {
    "name": "ipython",
    "version": 3
   },
   "file_extension": ".py",
   "mimetype": "text/x-python",
   "name": "python",
   "nbconvert_exporter": "python",
   "pygments_lexer": "ipython3",
   "version": "3.9.12"
  },
  "orig_nbformat": 4,
  "vscode": {
   "interpreter": {
    "hash": "103cb5f6bc3e1d16092eab664119432ca7ec893f6f9e9330ffbc5b4d58439f7c"
   }
  }
 },
 "nbformat": 4,
 "nbformat_minor": 2
}
